{
 "cells": [
  {
   "cell_type": "code",
   "execution_count": 2,
   "id": "4eb77a63",
   "metadata": {},
   "outputs": [
    {
     "data": {
      "application/javascript": [
       "console.log(\"aerwrq\")\n",
       "let basket={}\n",
       "\n",
       "function addToBasket() {\n",
       "  const beerLabel = \"Heiniken\";\n",
       "  if (beerLabel in basket) {\n",
       "    basket[beerLabel].beerCount += 1;\n",
       "      \n",
       "  } else {\n",
       "    let basketItem = {\n",
       "        beerName: beerLabel,\n",
       "        beerType: \"IPA\",\n",
       "        beerPrice: 150,\n",
       "        beerImg: \"http://image\",\n",
       "        beerCount: 1,\n",
       "      };\n",
       "    basket[beerLabel] = basketItem;\n",
       "  }\n",
       "  console.log(beerLabel);\n",
       "  console.log(basket);    \n",
       "}\n",
       "\n",
       "addToBasket()\n"
      ],
      "text/plain": [
       "<IPython.core.display.Javascript object>"
      ]
     },
     "metadata": {},
     "output_type": "display_data"
    }
   ],
   "source": [
    "%%javascript\n",
    "console.log(\"aerwrq\")\n",
    "let basket={}\n",
    "\n",
    "function addToBasket() {\n",
    "  const beerLabel = \"Heiniken\";\n",
    "  if (beerLabel in basket) {\n",
    "    basket[beerLabel].beerCount += 1;\n",
    "      \n",
    "  } else {\n",
    "    let basketItem = {\n",
    "        beerName: beerLabel,\n",
    "        beerType: \"IPA\",\n",
    "        beerPrice: 150,\n",
    "        beerImg: \"http://image\",\n",
    "        beerCount: 1,\n",
    "      };\n",
    "    basket[beerLabel] = basketItem;\n",
    "  }\n",
    "  console.log(beerLabel);\n",
    "  console.log(basket);    \n",
    "}\n",
    "\n",
    "\n",
    "function addToBasket(e) {\n",
    "  const productCard = e.target.parentElement.parentElement;\n",
    "  const beerLabel = productCard.parentNode.querySelector(\"h3\").textContent\n",
    "  \n",
    "  if (beerLabel in basket) {\n",
    "    basket[beerLabel].beerCount += 1;\n",
    "  } else {\n",
    "    let basketItem = {\n",
    "        beerName: beerLabel,\n",
    "        beerType: productCard.parentNode.querySelector(\"h4\").textContent,\n",
    "        beerPrice: productCard.parentNode.querySelector(\"p\").textContent,\n",
    "        beerImg: productCard.parentNode.querySelector(\"img\").src,\n",
    "        beerCount: 1,\n",
    "      };\n",
    "      basket[beerLabel] = basketItem;\n",
    "    };    \n",
    "  }\n",
    "  console.log(beerLabel);\n",
    "  showInBasket(beerLabel);\n",
    "}"
   ]
  },
  {
   "cell_type": "code",
   "execution_count": null,
   "id": "d35fbfa9",
   "metadata": {},
   "outputs": [],
   "source": []
  }
 ],
 "metadata": {
  "kernelspec": {
   "display_name": "Python 3",
   "language": "python",
   "name": "python3"
  },
  "language_info": {
   "codemirror_mode": {
    "name": "ipython",
    "version": 3
   },
   "file_extension": ".py",
   "mimetype": "text/x-python",
   "name": "python",
   "nbconvert_exporter": "python",
   "pygments_lexer": "ipython3",
   "version": "3.8.10"
  }
 },
 "nbformat": 4,
 "nbformat_minor": 5
}
